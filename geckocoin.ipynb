{
 "cells": [
  {
   "cell_type": "code",
   "execution_count": null,
   "metadata": {},
   "outputs": [],
   "source": []
  },
  {
   "cell_type": "code",
   "execution_count": 1,
   "metadata": {},
   "outputs": [],
   "source": [
    "from pycoingecko import CoinGeckoAPI\n",
    "import time\n",
    "import numpy as np\n",
    "import pandas as pd\n",
    "cg = CoinGeckoAPI()"
   ]
  },
  {
   "cell_type": "code",
   "execution_count": 3,
   "metadata": {},
   "outputs": [
    {
     "name": "stdout",
     "output_type": "stream",
     "text": [
      "\\IN USD\n",
      "     Date & Time        Price  Market caps   Total Volume\n",
      "0  1.622074e+12  2882.483408  3.344351e+11  5.311522e+10\n",
      "1  1.622160e+12  2742.990863  3.194045e+11  4.407024e+10\n",
      "2  1.622246e+12  2433.328866  2.822285e+11  4.949352e+10\n",
      "3  1.622333e+12  2294.626286  2.686729e+11  4.714125e+10\n",
      "4  1.622419e+12  2395.853228  2.782708e+11  3.739202e+10\n",
      "5  1.622506e+12  2708.429866  3.144632e+11  4.444583e+10\n",
      "6  1.622592e+12  2632.656600  3.064888e+11  3.989865e+10\n",
      "7  1.622678e+12  2717.154037  3.153133e+11  3.914886e+10\n",
      "8  1.622765e+12  2858.276702  3.339646e+11  3.810466e+10\n",
      "9  1.622778e+12  2759.683578  3.187524e+11  3.886691e+10\n",
      "\n",
      "\n",
      "IN BTC\n",
      "\n",
      "    Date & Time  Value in Btc  Market caps   Total Volume\n",
      "0  1.622074e+12      0.073578  8.535978e+06  1.355812e+06\n",
      "1  1.622160e+12      0.071247  8.289088e+06  1.144686e+06\n",
      "2  1.622246e+12      0.068196  7.908634e+06  1.387096e+06\n",
      "3  1.622333e+12      0.066339  7.744961e+06  1.362881e+06\n",
      "4  1.622419e+12      0.067203  7.810247e+06  1.048833e+06\n",
      "5  1.622506e+12      0.072578  8.426714e+06  1.191021e+06\n",
      "6  1.622592e+12      0.071770  8.353004e+06  1.087693e+06\n",
      "7  1.622678e+12      0.072162  8.379535e+06  1.039707e+06\n",
      "8  1.622765e+12      0.073050  8.510205e+06  9.738601e+05\n",
      "9  1.622778e+12      0.072853  8.466932e+06  1.029300e+06\n"
     ]
    }
   ],
   "source": [
    "#pull 10 ethereum in USD and BTC\n",
    "ethereum_USD_10=cg.get_coin_market_chart_by_id(id='ethereum', vs_currency='usd',days='10', interval='daily')\n",
    "\n",
    "Prices=ethereum_USD_10[\"prices\"]\n",
    "#print(Prices)\n",
    "N=10\n",
    "pricelist=Prices[-N:]\n",
    "#seperate the list    \n",
    "Timestamp, price = map(list, zip(*pricelist))\n",
    "# printing result\n",
    "#print(\"\\nfinal lists\\n\",\"time :\", Timestamp, \"\\nPrice: \", price)\n",
    "\n",
    "MarketCaps=ethereum_USD_10[\"market_caps\"]\n",
    "N=10\n",
    "market=MarketCaps[-N:]\n",
    "#seperate the list    \n",
    "Timestamp, mcaps = map(list, zip(*market))\n",
    "# printing result\n",
    "#print(\"\\nfinal lists\\n\",\"time :\", Timestamp, \"\\nMarket Caps: \", mcaps)\n",
    "\n",
    "Total_volumes=ethereum_USD_10[\"total_volumes\"]\n",
    "N=10\n",
    "totvolume=Total_volumes[-N:]\n",
    "#seperate the list    \n",
    "Timestamp, tv = map(list, zip(*totvolume))\n",
    "# printing result\n",
    "#print(\"\\nfinal lists\\n\",\"time :\", Timestamp, \"\\nPrice: \", tv)\n",
    "\n",
    "ethereumUSD=pd.DataFrame(np.column_stack([Timestamp,price,mcaps,tv]), columns=['Date & Time', 'Price', 'Market caps ', 'Total Volume'])\n",
    "print(\"\\IN USD\\n\",ethereumUSD)\n",
    "\n",
    "\n",
    "print(\"\\n\\nIN BTC\\n\")\n",
    "#pull 10 ethereum in BTC\n",
    "ethereum_BTC_10=cg.get_coin_market_chart_by_id(id='ethereum', vs_currency='btc',days='10', interval='daily')\n",
    "\n",
    "\n",
    "btcvalue=ethereum_BTC_10[\"prices\"]\n",
    "N=10\n",
    "btcvaluelist=btcvalue[-N:]\n",
    "#seperate the list    \n",
    "Timestamp, btcval = map(list, zip(*btcvaluelist))\n",
    "#print(\"\\nfinal lists\\n\",\"time :\", Timestamp, \"\\nPrice: \", btcval)\n",
    "\n",
    "btc_marketCaps=ethereum_BTC_10[\"market_caps\"]\n",
    "N=10\n",
    "btc_Mcaps_list=btc_marketCaps[-N:]\n",
    "#seperate the list    \n",
    "Timestamp, btcmcaps = map(list, zip(*btc_Mcaps_list))\n",
    "#print(\"\\nfinal lists\\n\",\"time :\", Timestamp, \"\\nPrice: \", btcmcaps)\n",
    "\n",
    "btc_totalVolume=ethereum_BTC_10[\"total_volumes\"]\n",
    "N=10\n",
    "btc_totVolume_list=btc_totalVolume[-N:]\n",
    "#seperate the list    \n",
    "Timestamp, btctotalVolume = map(list, zip(*btc_totVolume_list))\n",
    "#print(\"\\nfinal lists\\n\",\"time :\", Timestamp, \"\\nPrice: \", btctotalVolume)\n",
    "\n",
    "ethereumBTC=pd.DataFrame(np.column_stack([Timestamp,btcval,btcmcaps,btctotalVolume]), columns=['Date & Time', 'Value in Btc', 'Market caps ', 'Total Volume'])\n",
    "print(ethereumBTC)\n"
   ]
  },
  {
   "cell_type": "code",
   "execution_count": 4,
   "metadata": {},
   "outputs": [
    {
     "data": {
      "text/plain": [
       "{'ethereum': {'usd': 2758.68,\n",
       "  'usd_market_cap': 320694146996.12036,\n",
       "  'usd_24h_vol': 38952918712.140434,\n",
       "  'usd_24h_change': 1.056427821671983,\n",
       "  'btc': 0.072809,\n",
       "  'btc_market_cap': 8455311.348425223,\n",
       "  'btc_24h_vol': 1028071.7544450827,\n",
       "  'btc_24h_change': 0.38857988085349005,\n",
       "  'last_updated_at': 1622779472}}"
      ]
     },
     "execution_count": 4,
     "metadata": {},
     "output_type": "execute_result"
    }
   ],
   "source": [
    "gecko=cg.get_price(ids='ethereum', vs_currencies='usd,btc', include_market_cap='true', include_24hr_vol='true', include_24hr_change='true', include_last_updated_at='true',days='10',interval='daily')\n",
    "gecko"
   ]
  },
  {
   "cell_type": "code",
   "execution_count": 5,
   "metadata": {},
   "outputs": [
    {
     "name": "stdout",
     "output_type": "stream",
     "text": [
      "       Name price_in_btc  last_24h_change_btc price_in_usd  \\\n",
      "0  Ethereum     0.072809  0.38857988085349005      2758.68   \n",
      "\n",
      "  last_24h_change_usd                       updated_at  \n",
      "0   1.056427821671983  Fri, 04 Jun 2021 12:04:32 +0000  \n"
     ]
    }
   ],
   "source": [
    "Name='Ethereum'\n",
    "price_in_btc=gecko['ethereum']['btc']\n",
    "last_24h_change_btc=gecko['ethereum']['btc_24h_change']\n",
    "price_in_usd=gecko['ethereum']['usd']\n",
    "last_24h_change_usd=gecko['ethereum']['usd_24h_change']\n",
    "updated_at=gecko['ethereum']['last_updated_at']\n",
    "\n",
    "\n",
    "updated_at=time.strftime(\"%a, %d %b %Y %H:%M:%S +0000\", time.localtime(updated_at))\n",
    "\n",
    "\n",
    "geckotry=pd.DataFrame(np.column_stack([Name,price_in_btc,last_24h_change_btc,price_in_usd,last_24h_change_usd,updated_at]), columns=['Name', 'price_in_btc', 'last_24h_change_btc', 'price_in_usd','last_24h_change_usd','updated_at'])\n",
    "print(geckotry)"
   ]
  },
  {
   "cell_type": "code",
   "execution_count": 6,
   "metadata": {},
   "outputs": [],
   "source": [
    "geckotry.to_csv('geckotry.csv',index=False)"
   ]
  },
  {
   "cell_type": "code",
   "execution_count": 7,
   "metadata": {},
   "outputs": [
    {
     "name": "stdout",
     "output_type": "stream",
     "text": [
      "Note: you may need to restart the kernel to use updated packages.\n"
     ]
    }
   ],
   "source": [
    "pip freeze > requirement.txt"
   ]
  },
  {
   "cell_type": "code",
   "execution_count": null,
   "metadata": {},
   "outputs": [],
   "source": []
  }
 ],
 "metadata": {
  "kernelspec": {
   "display_name": "lola",
   "language": "python",
   "name": "environment-name"
  },
  "language_info": {
   "codemirror_mode": {
    "name": "ipython",
    "version": 3
   },
   "file_extension": ".py",
   "mimetype": "text/x-python",
   "name": "python",
   "nbconvert_exporter": "python",
   "pygments_lexer": "ipython3",
   "version": "3.7.0"
  }
 },
 "nbformat": 4,
 "nbformat_minor": 4
}
